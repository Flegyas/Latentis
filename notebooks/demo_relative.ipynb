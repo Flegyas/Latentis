{
 "cells": [
  {
   "cell_type": "code",
   "execution_count": 5,
   "metadata": {
    "id": "PULWYp1mZIdl"
   },
   "outputs": [],
   "source": [
    "from latentis.project import RelativeProjector\n",
    "from latentis.project import relative\n",
    "from latentis.space import LatentSpace\n",
    "from latentis.sample import Uniform\n",
    "\n",
    "import torch"
   ]
  },
  {
   "cell_type": "code",
   "execution_count": 6,
   "metadata": {},
   "outputs": [
    {
     "data": {
      "text/plain": [
       "(torch.Size([5, 10]), torch.Size([3, 10]))"
      ]
     },
     "execution_count": 6,
     "metadata": {},
     "output_type": "execute_result"
    }
   ],
   "source": [
    "space = LatentSpace(name=\"x\", vectors=torch.randn(5, 10))\n",
    "anchors = space.sample(sampler=Uniform(), n=3)\n",
    "space.shape, anchors.shape"
   ]
  },
  {
   "cell_type": "code",
   "execution_count": 7,
   "metadata": {
    "colab": {
     "base_uri": "https://localhost:8080/"
    },
    "id": "h6ZyakpmcKCa",
    "outputId": "b0e32f91-97a9-4451-b25c-2445339a2787"
   },
   "outputs": [
    {
     "data": {
      "text/plain": [
       "tensor([[ 0.2935,  0.0381,  1.0000],\n",
       "        [-0.0064,  1.0000,  0.0381],\n",
       "        [ 0.0294, -0.6105,  0.5409],\n",
       "        [ 1.0000, -0.0064,  0.2935],\n",
       "        [-0.1089, -0.0395, -0.2962]])"
      ]
     },
     "execution_count": 7,
     "metadata": {},
     "output_type": "execute_result"
    }
   ],
   "source": [
    "projector = RelativeProjector(\n",
    "    projection_fn=relative.cosine_proj,\n",
    ")\n",
    "\n",
    "projector(x=space, anchors=anchors).vectors"
   ]
  },
  {
   "cell_type": "code",
   "execution_count": 8,
   "metadata": {
    "id": "2NZKpscRcZRi"
   },
   "outputs": [
    {
     "data": {
      "text/plain": [
       "(RelativeSpace(name=x/relative_cosine_proj, vectors=torch.Size([5, 3]), features=dict_keys([])),\n",
       " tensor([[ 0.2935,  0.0381,  1.0000],\n",
       "         [-0.0064,  1.0000,  0.0381],\n",
       "         [ 0.0294, -0.6105,  0.5409],\n",
       "         [ 1.0000, -0.0064,  0.2935],\n",
       "         [-0.1089, -0.0395, -0.2962]]))"
      ]
     },
     "execution_count": 8,
     "metadata": {},
     "output_type": "execute_result"
    }
   ],
   "source": [
    "rel_space = space.to_relative(anchors=anchors, projector=projector)\n",
    "rel_space, rel_space.vectors"
   ]
  },
  {
   "cell_type": "code",
   "execution_count": 9,
   "metadata": {},
   "outputs": [
    {
     "data": {
      "text/plain": [
       "tensor([[ 0.2935,  0.0381,  1.0000],\n",
       "        [-0.0064,  1.0000,  0.0381],\n",
       "        [ 0.0294, -0.6105,  0.5409],\n",
       "        [ 1.0000, -0.0064,  0.2935],\n",
       "        [-0.1089, -0.0395, -0.2962]])"
      ]
     },
     "execution_count": 9,
     "metadata": {},
     "output_type": "execute_result"
    }
   ],
   "source": [
    "relative.cosine_proj(\n",
    "    x=space.vectors,\n",
    "    anchors=rel_space.anchors.vectors,\n",
    ")"
   ]
  }
 ],
 "metadata": {
  "colab": {
   "provenance": []
  },
  "kernelspec": {
   "display_name": "Python 3",
   "name": "python3"
  },
  "language_info": {
   "codemirror_mode": {
    "name": "ipython",
    "version": 3
   },
   "file_extension": ".py",
   "mimetype": "text/x-python",
   "name": "python",
   "nbconvert_exporter": "python",
   "pygments_lexer": "ipython3",
   "version": "3.9.18"
  }
 },
 "nbformat": 4,
 "nbformat_minor": 0
}
