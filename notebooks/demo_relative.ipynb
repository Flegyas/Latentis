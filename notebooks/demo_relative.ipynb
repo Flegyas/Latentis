{
 "cells": [
  {
   "cell_type": "code",
   "execution_count": null,
   "metadata": {
    "id": "PULWYp1mZIdl"
   },
   "outputs": [],
   "source": [
    "from latentis.space import LatentSpace\n",
    "from latentis.sample import Uniform\n",
    "from latentis.transform import projection\n",
    "from latentis.transform.projection import RelativeProjection\n",
    "import torch"
   ]
  },
  {
   "cell_type": "code",
   "execution_count": null,
   "metadata": {},
   "outputs": [],
   "source": [
    "space = LatentSpace(vector_source=torch.randn(5, 10))\n",
    "anchors = space.sample(sampler=Uniform(), n=3).vectors\n",
    "space = space.vectors\n",
    "space.shape, anchors.shape"
   ]
  },
  {
   "cell_type": "code",
   "execution_count": null,
   "metadata": {
    "colab": {
     "base_uri": "https://localhost:8080/"
    },
    "id": "h6ZyakpmcKCa",
    "outputId": "b0e32f91-97a9-4451-b25c-2445339a2787"
   },
   "outputs": [],
   "source": [
    "from latentis.transform.base import Centering\n",
    "\n",
    "\n",
    "projector = RelativeProjection(projection_fn=projection.cosine_proj, abs_transform=Centering())\n",
    "# Object API\n",
    "rel_space1 = projector.fit(x=anchors).transform(x=space)[0]\n",
    "rel_space2 = projector.fit(x=anchors)(x=space)[\"x\"]\n",
    "assert torch.allclose(rel_space1, rel_space2)\n",
    "rel_space1"
   ]
  },
  {
   "cell_type": "code",
   "execution_count": null,
   "metadata": {},
   "outputs": [],
   "source": [
    "# Functional API\n",
    "from latentis.transform.functional import centering_state, centering_transform\n",
    "\n",
    "centering_params = centering_state(x=anchors)\n",
    "centered_space = centering_transform(x=space, **centering_params)\n",
    "centered_anchors = centering_transform(x=anchors, **centering_params)\n",
    "rel_space3 = projection.cosine_proj(x=centered_space, anchors=centered_anchors)\n",
    "rel_space4 = projection.cosine_proj(x=space - anchors.mean(dim=0), anchors=anchors - anchors.mean(dim=0))\n",
    "assert torch.allclose(rel_space1, rel_space3)\n",
    "assert torch.allclose(rel_space1, rel_space4)"
   ]
  }
 ],
 "metadata": {
  "colab": {
   "provenance": []
  },
  "kernelspec": {
   "display_name": "Python 3",
   "name": "python3"
  },
  "language_info": {
   "codemirror_mode": {
    "name": "ipython",
    "version": 3
   },
   "file_extension": ".py",
   "mimetype": "text/x-python",
   "name": "python",
   "nbconvert_exporter": "python",
   "pygments_lexer": "ipython3",
   "version": "3.9.19"
  }
 },
 "nbformat": 4,
 "nbformat_minor": 0
}
