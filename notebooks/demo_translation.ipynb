{
 "cells": [
  {
   "cell_type": "code",
   "execution_count": null,
   "metadata": {},
   "outputs": [],
   "source": [
    "# !pip install latentis==0.0.8"
   ]
  },
  {
   "cell_type": "markdown",
   "metadata": {},
   "source": [
    "# Define spaces"
   ]
  },
  {
   "cell_type": "code",
   "execution_count": null,
   "metadata": {},
   "outputs": [],
   "source": [
    "import torch\n",
    "import torch.nn.functional as F\n",
    "\n",
    "N_SAMPLES = 10_000\n",
    "SPACE1_DIM = 1024\n",
    "SPACE2_DIM = 768\n",
    "\n",
    "space1 = torch.randn(N_SAMPLES, SPACE1_DIM)"
   ]
  },
  {
   "cell_type": "code",
   "execution_count": null,
   "metadata": {},
   "outputs": [],
   "source": [
    "from latentis.transform.functional import random_isometry_state"
   ]
  },
  {
   "cell_type": "code",
   "execution_count": null,
   "metadata": {},
   "outputs": [],
   "source": [
    "space2_mode = \"isometry(space1)\"\n",
    "if space2_mode == \"isometry(space1)\":\n",
    "    random_isometry = random_isometry_state(x=space1, random_seed=51)[\"matrix\"]\n",
    "    space2 = space1 @ random_isometry\n",
    "elif space2_mode == \"random\":\n",
    "    space2 = torch.randn(N_SAMPLES, SPACE2_DIM)\n",
    "else:\n",
    "    raise ValueError(f\"Unknown space2_mode: {space2_mode}\")"
   ]
  },
  {
   "cell_type": "code",
   "execution_count": null,
   "metadata": {},
   "outputs": [],
   "source": [
    "add_noise: bool = True\n",
    "\n",
    "if add_noise:\n",
    "    space2 = space2 + F.normalize(torch.rand_like(space2), dim=-1) * space2.norm(\n",
    "        p=2, dim=0\n",
    "    )"
   ]
  },
  {
   "cell_type": "code",
   "execution_count": null,
   "metadata": {},
   "outputs": [],
   "source": [
    "space1.shape, space2.shape"
   ]
  },
  {
   "cell_type": "markdown",
   "metadata": {},
   "source": [
    "# Define Translator"
   ]
  },
  {
   "cell_type": "code",
   "execution_count": null,
   "metadata": {},
   "outputs": [],
   "source": [
    "from latentis.transform.base import StandardScaling\n",
    "from latentis.transform.dim_matcher import ZeroPadding\n",
    "from latentis.transform.translate.aligner import MatrixAligner, Translator\n",
    "from latentis.transform.translate.functional import (\n",
    "    svd_align_state,\n",
    "    lstsq_align_state,\n",
    "    lstsq_ortho_align_state,\n",
    ")\n",
    "\n",
    "\n",
    "translator_ortho = Translator(\n",
    "    aligner=MatrixAligner(name=\"ortho\", align_fn_state=svd_align_state),\n",
    "    x_transform=StandardScaling(),\n",
    "    y_transform=StandardScaling(),\n",
    "    dim_matcher=ZeroPadding(),\n",
    ")\n",
    "# translator_ortho is the \"ortho\" in the paper. Basically, Procrustes analysis having an orthogonal transformation\n",
    "# estimated after applying standard scaling to the spaces.\n",
    "\n",
    "translator_linear = Translator(\n",
    "    aligner=MatrixAligner(name=\"linear\", align_fn_state=lstsq_align_state),\n",
    ")\n",
    "\n",
    "translator_linear_scaling = Translator(\n",
    "    aligner=MatrixAligner(\n",
    "        name=\"linear+standard_scaling\", align_fn_state=lstsq_align_state\n",
    "    ),\n",
    "    x_transform=StandardScaling(),\n",
    "    y_transform=StandardScaling(),\n",
    "    # dim_matcher=ZeroPadding(), # No need for padding with lstsq\n",
    ")\n",
    "\n",
    "translator_linear_ortho = Translator(\n",
    "    aligner=MatrixAligner(\n",
    "        name=\"ortho(linear+standard_scaling)\", align_fn_state=lstsq_ortho_align_state\n",
    "    ),\n",
    "    x_transform=StandardScaling(),\n",
    "    y_transform=StandardScaling(),\n",
    ")"
   ]
  },
  {
   "cell_type": "markdown",
   "metadata": {},
   "source": [
    "# Latent Translation"
   ]
  },
  {
   "cell_type": "code",
   "execution_count": null,
   "metadata": {},
   "outputs": [],
   "source": [
    "dtype = torch.double\n",
    "for translator in (\n",
    "    translator_ortho,\n",
    "    translator_linear,\n",
    "    translator_linear_scaling,\n",
    "    translator_linear_ortho,\n",
    "):\n",
    "    print(f\"Testing {translator.aligner.name}\")\n",
    "\n",
    "    # fit the translator using the anchor data. In this case, the anchor data are the whole space1 and space2\n",
    "    translator.fit(x=space1.to(dtype), y=space2.to(dtype))\n",
    "\n",
    "    # first method to transform the space X into the space Y\n",
    "    space1_transformed1 = translator.transform(space1.to(dtype))[0]\n",
    "\n",
    "    # second method to transform the space X into the space Y (this is the same as the first method but:\n",
    "    # relies on the forward method to implicitly call \"transform\" and returns a dictionary, not a tuple\n",
    "    space1_transformed2 = translator(space1.to(dtype))[\"x\"]\n",
    "\n",
    "    assert torch.allclose(space1_transformed1, space1_transformed2)\n",
    "    mse = (space2 - space1_transformed1).abs().mean()\n",
    "    print(f\"MSE: {mse}\")\n",
    "\n",
    "    cos_sim = F.cosine_similarity(space2, space1_transformed1).mean()\n",
    "    print(f\"Cosine similarity: {cos_sim}\")\n",
    "    print()"
   ]
  },
  {
   "cell_type": "code",
   "execution_count": null,
   "metadata": {},
   "outputs": [],
   "source": [
    "# Functional version (no need to create a translator object, but waaaaaaay more verbose)\n",
    "\n",
    "from latentis.transform.functional import (\n",
    "    standard_scaling_transform,\n",
    "    standard_scaling_state,\n",
    "    standard_scaling_inverse,\n",
    ")\n",
    "from latentis.transform.translate.functional import svd_align"
   ]
  },
  {
   "cell_type": "code",
   "execution_count": null,
   "metadata": {},
   "outputs": [],
   "source": [
    "def translator_ortho_fn(x, y):\n",
    "    # Same flow as in Figure 2 of the paper\n",
    "    y_stats = standard_scaling_state(y)\n",
    "    x = standard_scaling_transform(x=x, **standard_scaling_state(x))\n",
    "    y = standard_scaling_transform(x=y, **y_stats)\n",
    "\n",
    "    x_transformed = svd_align(x, y)\n",
    "\n",
    "    x_transformed = standard_scaling_inverse(x=x_transformed, **y_stats)\n",
    "\n",
    "    return x_transformed"
   ]
  },
  {
   "cell_type": "code",
   "execution_count": null,
   "metadata": {},
   "outputs": [],
   "source": [
    "transformed_fn = translator_ortho_fn(space1.to(dtype), space2.to(dtype))\n",
    "\n",
    "assert torch.allclose(translator_ortho(space1.to(dtype))[\"x\"], transformed_fn)"
   ]
  },
  {
   "cell_type": "code",
   "execution_count": null,
   "metadata": {},
   "outputs": [],
   "source": []
  }
 ],
 "metadata": {
  "kernelspec": {
   "display_name": "latentis",
   "language": "python",
   "name": "python3"
  },
  "language_info": {
   "codemirror_mode": {
    "name": "ipython",
    "version": 3
   },
   "file_extension": ".py",
   "mimetype": "text/x-python",
   "name": "python",
   "nbconvert_exporter": "python",
   "pygments_lexer": "ipython3",
   "version": "3.12.4"
  }
 },
 "nbformat": 4,
 "nbformat_minor": 2
}
