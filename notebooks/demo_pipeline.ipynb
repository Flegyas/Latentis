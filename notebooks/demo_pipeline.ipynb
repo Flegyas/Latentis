{
 "cells": [
  {
   "cell_type": "code",
   "execution_count": null,
   "metadata": {},
   "outputs": [],
   "source": [
    "%load_ext autoreload\n",
    "%autoreload 2"
   ]
  },
  {
   "cell_type": "code",
   "execution_count": null,
   "metadata": {},
   "outputs": [],
   "source": [
    "from latentis.pipeline.flow import NNPipeline, Flow\n",
    "\n",
    "\n",
    "Procrustes = NNPipeline(name=\"Procrustes\")"
   ]
  },
  {
   "cell_type": "code",
   "execution_count": null,
   "metadata": {},
   "outputs": [],
   "source": [
    "Procrustes.add(\n",
    "    Flow(name=\"fit\", inputs=[\"fit_x\", \"fit_y\"], outputs=\"translator\")\n",
    "    .add(block=\"x_scaler\", method=\"fit_transform\", inputs=\"fit_x:x\", outputs=\"scaled_x\")\n",
    "    .add(block=\"y_scaler\", method=\"fit_transform\", inputs=\"fit_y:x\", outputs=\"scaled_y\")\n",
    "    # .add_string(\"padding.fit_transform(scaled_x:x, scaled_y:y) -> padded_x, padded_y\")\n",
    "    .add(\n",
    "        block=\"padding\",\n",
    "        method=\"fit_transform\",\n",
    "        inputs=[\"scaled_x:x\", \"scaled_y:y\"],\n",
    "        outputs=[\"padded_x\", \"padded_y\"],\n",
    "    )\n",
    "    .add(\n",
    "        block=\"estimator\",\n",
    "        method=\"fit\",\n",
    "        inputs=[\"padded_x:x\", \"padded_y:y\"],\n",
    "        outputs=\"translator\",\n",
    "    )\n",
    ")\n",
    "Procrustes.flows[\"fit\"].to_pydot()"
   ]
  },
  {
   "cell_type": "code",
   "execution_count": null,
   "metadata": {},
   "outputs": [],
   "source": [
    "Procrustes.add(\n",
    "    Flow(name=\"transform\", inputs=\"x\", outputs=\"x_transformed\")\n",
    "    .add(block=\"x_scaler\", method=\"transform\", inputs=\"x\", outputs=\"scaled_x\")\n",
    "    .add(\n",
    "        block=\"padding\",\n",
    "        method=\"transform\",\n",
    "        inputs=\"scaled_x:x\",\n",
    "        outputs=[\"padded_x\"],\n",
    "    )\n",
    "    .add(\n",
    "        block=\"estimator\",\n",
    "        method=\"transform\",\n",
    "        inputs=\"padded_x:x\",\n",
    "        outputs=\"translated_x\",\n",
    "    )\n",
    "    .add(\n",
    "        block=\"y_scaler\",\n",
    "        method=\"inverse_transform\",\n",
    "        inputs=\"translated_x:x\",\n",
    "        outputs=\"x_transformed\",\n",
    "    )\n",
    ")\n",
    "Procrustes.flows[\"transform\"].to_pydot()"
   ]
  },
  {
   "cell_type": "code",
   "execution_count": null,
   "metadata": {},
   "outputs": [],
   "source": [
    "from latentis.transform.base import StandardScaling\n",
    "from latentis.transform.dim_matcher import ZeroPadding\n",
    "from latentis.transform.translate.aligner import MatrixAligner\n",
    "from latentis.transform.translate.functional import svd_align_state"
   ]
  },
  {
   "cell_type": "code",
   "execution_count": null,
   "metadata": {},
   "outputs": [],
   "source": [
    "Procrustes.build(\n",
    "    x_scaler=StandardScaling(),\n",
    "    y_scaler=StandardScaling(),\n",
    "    padding=ZeroPadding(),\n",
    "    estimator=MatrixAligner(name=\"svd\", align_fn_state=svd_align_state),\n",
    ")"
   ]
  },
  {
   "cell_type": "code",
   "execution_count": null,
   "metadata": {},
   "outputs": [],
   "source": [
    "import torch"
   ]
  },
  {
   "cell_type": "code",
   "execution_count": null,
   "metadata": {},
   "outputs": [],
   "source": [
    "x = torch.randn(5, 4)\n",
    "y = torch.randn(5, 4)"
   ]
  },
  {
   "cell_type": "code",
   "execution_count": null,
   "metadata": {},
   "outputs": [],
   "source": [
    "Procrustes.run(flow=\"fit\", fit_x=x, fit_y=y)"
   ]
  },
  {
   "cell_type": "code",
   "execution_count": null,
   "metadata": {},
   "outputs": [],
   "source": [
    "Procrustes.run(flow=\"transform\", x=x)"
   ]
  },
  {
   "cell_type": "code",
   "execution_count": null,
   "metadata": {},
   "outputs": [],
   "source": [
    "from latentis.transform.base import MeanLPNorm\n",
    "from latentis.transform import Identity"
   ]
  },
  {
   "cell_type": "code",
   "execution_count": null,
   "metadata": {},
   "outputs": [],
   "source": [
    "x = torch.randn(5, 4)\n",
    "anchors = x[:2]"
   ]
  },
  {
   "cell_type": "code",
   "execution_count": null,
   "metadata": {},
   "outputs": [],
   "source": [
    "RelProj = NNPipeline(name=\"RelProj\")"
   ]
  },
  {
   "cell_type": "code",
   "execution_count": null,
   "metadata": {},
   "outputs": [],
   "source": [
    "RelProj.add(\n",
    "    Flow(name=\"fit\", inputs=\"anchors\", outputs=\"rel_anchors\")\n",
    "    .add(\n",
    "        block=\"abs_transform\",\n",
    "        method=\"fit_transform\",\n",
    "        inputs=\"anchors:x\",\n",
    "        outputs=\"abs_anchors\",\n",
    "    )\n",
    "    .add(\n",
    "        block=\"projection\",\n",
    "        method=\"fit\",\n",
    "        inputs=\"abs_anchors:anchors\",\n",
    "        outputs=\"rel_proj\",\n",
    "    )\n",
    "    .add(\n",
    "        block=\"projection\",\n",
    "        method=\"transform\",\n",
    "        inputs=\"abs_anchors:x\",\n",
    "        outputs=\"rel_anchors\",\n",
    "    )\n",
    "    .add(\n",
    "        block=\"rel_transform\",\n",
    "        method=\"fit_transform\",\n",
    "        inputs=\"rel_anchors:x\",\n",
    "        outputs=\"rel_anchors\",\n",
    "    )\n",
    ")\n",
    "RelProj.flows[\"fit\"].to_pydot()"
   ]
  },
  {
   "cell_type": "code",
   "execution_count": null,
   "metadata": {},
   "outputs": [],
   "source": [
    "RelProj.add(\n",
    "    Flow(name=\"transform\", inputs=\"x\", outputs=\"rel_x\")\n",
    "    .add(block=\"abs_transform\", method=\"transform\", inputs=\"x\", outputs=\"abs_x\")\n",
    "    .add(block=\"projection\", method=\"transform\", inputs=[\"abs_x:x\"], outputs=\"rel_x\")\n",
    "    .add(block=\"rel_transform\", method=\"transform\", inputs=\"rel_x:x\", outputs=\"rel_x\")\n",
    ")\n",
    "RelProj.flows[\"transform\"].to_pydot()"
   ]
  },
  {
   "cell_type": "code",
   "execution_count": null,
   "metadata": {},
   "outputs": [],
   "source": [
    "from latentis.transform import projection\n",
    "from latentis.transform.projection import RelativeProjection\n",
    "\n",
    "\n",
    "RelProj = RelProj.build(\n",
    "    abs_transform=MeanLPNorm(p=2),\n",
    "    projection=RelativeProjection(projection_fn=projection.cosine_proj),\n",
    "    rel_transform=Identity(),\n",
    ")\n",
    "RelProj"
   ]
  },
  {
   "cell_type": "code",
   "execution_count": null,
   "metadata": {},
   "outputs": [],
   "source": [
    "RelProj.run(flow=\"fit\", anchors=anchors)"
   ]
  },
  {
   "cell_type": "code",
   "execution_count": null,
   "metadata": {},
   "outputs": [],
   "source": [
    "RelProj.run(flow=\"transform\", x=x)"
   ]
  },
  {
   "cell_type": "code",
   "execution_count": null,
   "metadata": {},
   "outputs": [],
   "source": [
    "translator = NNPipeline(\n",
    "    name=\"translator\",\n",
    "    flows={\n",
    "        \"fit\": Flow(name=\"fit\", inputs=[\"fit_x\", \"fit_y\"], outputs=\"estimator\")\n",
    "        .add(block=\"x_transform\", method=\"fit_transform\", inputs=\"fit_x:x\", outputs=\"x\")\n",
    "        .add(block=\"y_transform\", method=\"fit_transform\", inputs=\"fit_y:x\", outputs=\"y\")\n",
    "        .add(\n",
    "            block=\"padder\",\n",
    "            method=\"fit_transform\",\n",
    "            inputs=[\"x\", \"y\"],\n",
    "            outputs=[\"padded_x\", \"padded_y\"],\n",
    "        )\n",
    "        .add(\n",
    "            block=\"aligner\",\n",
    "            method=\"fit\",\n",
    "            inputs=[\"padded_x:x\", \"padded_y:y\"],\n",
    "            outputs=[\"aligner_state\"],\n",
    "        ),\n",
    "        #\n",
    "        \"transform\": Flow(name=\"transform\", inputs=[\"x\"], outputs=[\"translated_x\"])\n",
    "        .add(block=\"x_transform\", method=\"transform\", inputs=\"x\", outputs=\"x\")\n",
    "        .add(block=\"padder\", method=\"transform\", inputs=\"x\", outputs=\"x\")\n",
    "        .add(block=\"aligner\", method=\"transform\", inputs=\"x\", outputs=\"x\")\n",
    "        .add(block=\"padder\", method=\"inverse_transform\", inputs=\"x:y\", outputs=\"x\")\n",
    "        .add(\n",
    "            block=\"y_transform\",\n",
    "            method=\"inverse_transform\",\n",
    "            inputs=\"x\",\n",
    "            outputs=\"translated_x\",\n",
    "        ),\n",
    "    },\n",
    ")"
   ]
  },
  {
   "cell_type": "code",
   "execution_count": null,
   "metadata": {},
   "outputs": [],
   "source": [
    "translator.flows[\"fit\"].to_pydot()"
   ]
  },
  {
   "cell_type": "code",
   "execution_count": null,
   "metadata": {},
   "outputs": [],
   "source": [
    "translator.flows[\"transform\"].to_pydot()"
   ]
  },
  {
   "cell_type": "code",
   "execution_count": null,
   "metadata": {},
   "outputs": [],
   "source": []
  }
 ],
 "metadata": {
  "kernelspec": {
   "display_name": "latentis",
   "language": "python",
   "name": "python3"
  },
  "language_info": {
   "codemirror_mode": {
    "name": "ipython",
    "version": 3
   },
   "file_extension": ".py",
   "mimetype": "text/x-python",
   "name": "python",
   "nbconvert_exporter": "python",
   "pygments_lexer": "ipython3",
   "version": "3.9.18"
  }
 },
 "nbformat": 4,
 "nbformat_minor": 2
}
