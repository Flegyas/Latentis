{
 "cells": [
  {
   "cell_type": "markdown",
   "metadata": {},
   "source": [
    "## Define a Latent Space and create the Index"
   ]
  },
  {
   "cell_type": "code",
   "execution_count": null,
   "metadata": {},
   "outputs": [],
   "source": [
    "from latentis.utils import seed_everything\n",
    "from latentis.search import SearchMetric, SearchIndex\n",
    "from latentis import LatentSpace\n",
    "\n",
    "import torch\n",
    "\n",
    "N_SAMPLES = 100\n",
    "SPACE_DIM = 256\n",
    "SEARCH_METRIC = SearchMetric.COSINE\n",
    "\n",
    "seed_everything(42)\n",
    "\n",
    "space = LatentSpace(\n",
    "    vectors=torch.randn(N_SAMPLES, SPACE_DIM),\n",
    "    name=\"demo_space\",\n",
    ")\n",
    "\n",
    "index = space.to_index(metric_fn=SEARCH_METRIC, keys=[str(i) for i in range(N_SAMPLES)])"
   ]
  },
  {
   "cell_type": "markdown",
   "metadata": {},
   "source": [
    "## Search kNN"
   ]
  },
  {
   "cell_type": "markdown",
   "metadata": {},
   "source": [
    "By single vector"
   ]
  },
  {
   "cell_type": "code",
   "execution_count": null,
   "metadata": {},
   "outputs": [],
   "source": [
    "query_vector = index.get_vector(query_offset=0)\n",
    "\n",
    "neighbor_ids, distances = index.search_knn(query_vectors=query_vector, k=5)\n",
    "neighbor_ids, distances"
   ]
  },
  {
   "cell_type": "markdown",
   "metadata": {},
   "source": [
    "By multiple vectors"
   ]
  },
  {
   "cell_type": "code",
   "execution_count": null,
   "metadata": {},
   "outputs": [],
   "source": [
    "neighbor_ids, distances = index.search_knn(query_offsets=[0, 1], k=5)\n",
    "neighbor_ids, distances"
   ]
  },
  {
   "cell_type": "markdown",
   "metadata": {},
   "source": [
    "By offsets"
   ]
  },
  {
   "cell_type": "code",
   "execution_count": null,
   "metadata": {},
   "outputs": [],
   "source": [
    "query_vectors = index.get_vectors(query_offsets=[0, 1])\n",
    "\n",
    "neighbor_ids, distances = index.search_knn(query_vectors=query_vectors, k=5)\n",
    "neighbor_ids, distances"
   ]
  },
  {
   "cell_type": "markdown",
   "metadata": {},
   "source": [
    "By new random vector"
   ]
  },
  {
   "cell_type": "code",
   "execution_count": null,
   "metadata": {},
   "outputs": [],
   "source": [
    "new = torch.randn(256)\n",
    "\n",
    "neighbor_ids, distances = index.search_knn(query_vectors=new, k=5)\n",
    "neighbor_ids, distances"
   ]
  },
  {
   "cell_type": "markdown",
   "metadata": {},
   "source": [
    "Add the vector to my index and check most similars"
   ]
  },
  {
   "cell_type": "code",
   "execution_count": null,
   "metadata": {},
   "outputs": [],
   "source": [
    "index.add_vector(vector=new, key=\"custom\")\n",
    "\n",
    "neighbor_ids, distances = index.search_knn(query_vectors=new, k=6)\n",
    "neighbor_ids, distances"
   ]
  },
  {
   "cell_type": "markdown",
   "metadata": {},
   "source": [
    "Get my new vector by key"
   ]
  },
  {
   "cell_type": "code",
   "execution_count": null,
   "metadata": {},
   "outputs": [],
   "source": [
    "index.get_vector(query_key=\"custom\")"
   ]
  },
  {
   "cell_type": "markdown",
   "metadata": {},
   "source": [
    "Add multiple vectors"
   ]
  },
  {
   "cell_type": "code",
   "execution_count": null,
   "metadata": {},
   "outputs": [],
   "source": [
    "new_vectors = torch.randn(N_SAMPLES, SPACE_DIM)\n",
    "\n",
    "index.add_vectors(vectors=new_vectors, keys=[str(i + 100) for i in range(N_SAMPLES)])"
   ]
  },
  {
   "cell_type": "markdown",
   "metadata": {},
   "source": [
    "## Search by range"
   ]
  },
  {
   "cell_type": "code",
   "execution_count": null,
   "metadata": {},
   "outputs": [],
   "source": [
    "query_vector = index.get_vector(query_offset=10)\n",
    "\n",
    "index.search_range(query_vectors=query_vector, radius=0.99)"
   ]
  },
  {
   "cell_type": "markdown",
   "metadata": {},
   "source": [
    "Change the metric and search by range"
   ]
  },
  {
   "cell_type": "code",
   "execution_count": null,
   "metadata": {},
   "outputs": [],
   "source": [
    "eu_index = space.to_index(metric_fn=SearchMetric.EUCLIDEAN, keys=[str(i) for i in range(N_SAMPLES)])\n",
    "query_vector = eu_index.get_vector(query_offset=10)\n",
    "\n",
    "index.search_range(query_vectors=query_vector, radius=0.99)"
   ]
  },
  {
   "cell_type": "code",
   "execution_count": null,
   "metadata": {},
   "outputs": [],
   "source": []
  }
 ],
 "metadata": {
  "kernelspec": {
   "display_name": "latentis",
   "language": "python",
   "name": "python3"
  },
  "language_info": {
   "codemirror_mode": {
    "name": "ipython",
    "version": 3
   },
   "file_extension": ".py",
   "mimetype": "text/x-python",
   "name": "python",
   "nbconvert_exporter": "python",
   "pygments_lexer": "ipython3",
   "version": "3.9.18"
  }
 },
 "nbformat": 4,
 "nbformat_minor": 2
}
